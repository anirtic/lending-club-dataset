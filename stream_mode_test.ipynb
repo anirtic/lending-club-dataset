{
 "cells": [
  {
   "cell_type": "code",
   "execution_count": 1,
   "id": "73d38f04",
   "metadata": {},
   "outputs": [],
   "source": [
    "import requests\n",
    "import json"
   ]
  },
  {
   "cell_type": "markdown",
   "id": "255dc47d",
   "metadata": {},
   "source": [
    "#### Loan Decision"
   ]
  },
  {
   "cell_type": "code",
   "execution_count": 52,
   "id": "4fb0bb77",
   "metadata": {},
   "outputs": [
    {
     "name": "stdout",
     "output_type": "stream",
     "text": [
      "200\n",
      "{'0': 'Rejected'}\n",
      "Wall time: 210 ms\n"
     ]
    }
   ],
   "source": [
    "%%time\n",
    "url = \"https://lendingc33-26ulqxbbaq-uc.a.run.app/decision-stream\"\n",
    "\n",
    "data = {\n",
    "    \"Amount Requested\": 9500,\n",
    "    \"emp_length\": 10,\n",
    "    \"Risk_Score\": 637,\n",
    "    \"Debt-To-Income Ratio\": 0.0028\n",
    "  }\n",
    "\n",
    "# Make sure headers are set to application/json\n",
    "headers = {'Content-Type': 'application/json'}\n",
    "\n",
    "\n",
    "response = requests.post(url, headers=headers, data=json.dumps(data))\n",
    "\n",
    "# Printing the response\n",
    "print(response.status_code)\n",
    "print(response.json())\n"
   ]
  },
  {
   "cell_type": "markdown",
   "id": "9c8e9611",
   "metadata": {},
   "source": [
    "#### Loan Grade / Subgrade / Interest rate"
   ]
  },
  {
   "cell_type": "code",
   "execution_count": 50,
   "id": "eca2c1cf",
   "metadata": {},
   "outputs": [
    {
     "name": "stdout",
     "output_type": "stream",
     "text": [
      "200\n",
      "{'grade': 'G', 'subgrade': 'G1', 'int_rate': 25.869251251220703}\n",
      "Wall time: 298 ms\n"
     ]
    }
   ],
   "source": [
    "%%time\n",
    "url = \"https://lendingc33-26ulqxbbaq-uc.a.run.app/gradesnrate-stream\"\n",
    "\n",
    "data = {\n",
    "    \"loan_amnt\": 3600,\n",
    "    \"funded_amnt\": 3600,\n",
    "    \"term\": 0,\n",
    "    \"installment\": 123.03,\n",
    "    \"annual_inc\": 55000,\n",
    "    \"issue_d\": 2015,\n",
    "    \"purpose\": 2,\n",
    "    \"addr_state\": 38,\n",
    "    \"dti\": 5.91,\n",
    "    \"earliest_cr_line\": 2003,\n",
    "    \"open_acc\": 7,\n",
    "    \"revol_bal\": 2765,\n",
    "    \"revol_util\": 29.7,\n",
    "    \"total_acc\": 13,\n",
    "    \"tot_cur_bal\": 144904,\n",
    "    \"all_util\": 34,\n",
    "    \"total_rev_hi_lim\": 9300,\n",
    "    \"acc_open_past_24mths\": 4,\n",
    "    \"avg_cur_bal\": 20701,\n",
    "    \"bc_open_to_buy\": 1506,\n",
    "    \"bc_util\": 37.2,\n",
    "    \"mo_sin_old_il_acct\": 148,\n",
    "    \"mo_sin_old_rev_tl_op\": 128,\n",
    "    \"mo_sin_rcnt_rev_tl_op\": 3,\n",
    "    \"mo_sin_rcnt_tl\": 3,\n",
    "    \"mths_since_recent_bc\": 4,\n",
    "    \"mths_since_recent_inq\": 4,\n",
    "    \"num_bc_tl\": 5,\n",
    "    \"num_il_tl\": 3,\n",
    "    \"num_rev_accts\": 9,\n",
    "    \"percent_bc_gt_75\": 0,\n",
    "    \"tot_hi_cred_lim\": 178050,\n",
    "    \"total_bal_ex_mort\": 7746,\n",
    "    \"total_bc_limit\": 2400,\n",
    "    \"total_il_high_credit_limit\": 13734,\n",
    "    \"fico\": 677,\n",
    "    \"monthly_load\": 2.6842909090909095\n",
    "  }\n",
    "headers = {'Content-Type': 'application/json'}\n",
    "\n",
    "# Sending the request\n",
    "response = requests.post(url, headers=headers, data=json.dumps(data))\n",
    "\n",
    "# Printing the response\n",
    "print(response.status_code)\n",
    "print(response.json())\n"
   ]
  },
  {
   "cell_type": "code",
   "execution_count": null,
   "id": "7060448d",
   "metadata": {},
   "outputs": [],
   "source": []
  }
 ],
 "metadata": {
  "kernelspec": {
   "display_name": "Python 3 (ipykernel)",
   "language": "python",
   "name": "python3"
  },
  "language_info": {
   "codemirror_mode": {
    "name": "ipython",
    "version": 3
   },
   "file_extension": ".py",
   "mimetype": "text/x-python",
   "name": "python",
   "nbconvert_exporter": "python",
   "pygments_lexer": "ipython3",
   "version": "3.9.13"
  }
 },
 "nbformat": 4,
 "nbformat_minor": 5
}
